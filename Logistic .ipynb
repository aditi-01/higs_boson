{
 "cells": [
  {
   "cell_type": "code",
   "execution_count": 1,
   "id": "894be8fb",
   "metadata": {},
   "outputs": [],
   "source": [
    "import numpy as np # linear algebra\n",
    "import pandas as pd #data processing, CSV file I/O (e.g. pd.read_csv)\n",
    "import warnings\n",
    "warnings.simplefilter('ignore')"
   ]
  },
  {
   "cell_type": "code",
   "execution_count": 2,
   "id": "1c971104",
   "metadata": {},
   "outputs": [],
   "source": [
    "import matplotlib.pyplot as plt\n",
    "%matplotlib inline\n",
    "import seaborn as sns\n",
    "from sklearn.model_selection import train_test_split\n",
    "from sklearn.linear_model import LogisticRegression\n",
    "from sklearn.metrics import accuracy_score, f1_score\n",
    "from sklearn.model_selection import KFold, cross_val_score, StratifiedKFold"
   ]
  },
  {
   "cell_type": "code",
   "execution_count": 3,
   "id": "f0c68fdc",
   "metadata": {},
   "outputs": [],
   "source": [
    "filename = \"training.csv\"\n",
    "df = pd.read_csv(filename, index_col=False )"
   ]
  },
  {
   "cell_type": "code",
   "execution_count": 4,
   "id": "a634e9d7",
   "metadata": {},
   "outputs": [
    {
     "data": {
      "text/html": [
       "<div>\n",
       "<style scoped>\n",
       "    .dataframe tbody tr th:only-of-type {\n",
       "        vertical-align: middle;\n",
       "    }\n",
       "\n",
       "    .dataframe tbody tr th {\n",
       "        vertical-align: top;\n",
       "    }\n",
       "\n",
       "    .dataframe thead th {\n",
       "        text-align: right;\n",
       "    }\n",
       "</style>\n",
       "<table border=\"1\" class=\"dataframe\">\n",
       "  <thead>\n",
       "    <tr style=\"text-align: right;\">\n",
       "      <th></th>\n",
       "      <th>EventId</th>\n",
       "      <th>DER_mass_MMC</th>\n",
       "      <th>DER_mass_transverse_met_lep</th>\n",
       "      <th>DER_mass_vis</th>\n",
       "      <th>DER_pt_h</th>\n",
       "      <th>DER_deltaeta_jet_jet</th>\n",
       "      <th>DER_mass_jet_jet</th>\n",
       "      <th>DER_prodeta_jet_jet</th>\n",
       "      <th>DER_deltar_tau_lep</th>\n",
       "      <th>DER_pt_tot</th>\n",
       "      <th>...</th>\n",
       "      <th>PRI_jet_num</th>\n",
       "      <th>PRI_jet_leading_pt</th>\n",
       "      <th>PRI_jet_leading_eta</th>\n",
       "      <th>PRI_jet_leading_phi</th>\n",
       "      <th>PRI_jet_subleading_pt</th>\n",
       "      <th>PRI_jet_subleading_eta</th>\n",
       "      <th>PRI_jet_subleading_phi</th>\n",
       "      <th>PRI_jet_all_pt</th>\n",
       "      <th>Weight</th>\n",
       "      <th>Label</th>\n",
       "    </tr>\n",
       "  </thead>\n",
       "  <tbody>\n",
       "    <tr>\n",
       "      <th>0</th>\n",
       "      <td>100000</td>\n",
       "      <td>138.470</td>\n",
       "      <td>51.655</td>\n",
       "      <td>97.827</td>\n",
       "      <td>27.980</td>\n",
       "      <td>0.91</td>\n",
       "      <td>124.711</td>\n",
       "      <td>2.666</td>\n",
       "      <td>3.064</td>\n",
       "      <td>41.928</td>\n",
       "      <td>...</td>\n",
       "      <td>2</td>\n",
       "      <td>67.435</td>\n",
       "      <td>2.150</td>\n",
       "      <td>0.444</td>\n",
       "      <td>46.062</td>\n",
       "      <td>1.24</td>\n",
       "      <td>-2.475</td>\n",
       "      <td>113.497</td>\n",
       "      <td>0.002653</td>\n",
       "      <td>s</td>\n",
       "    </tr>\n",
       "    <tr>\n",
       "      <th>1</th>\n",
       "      <td>100001</td>\n",
       "      <td>160.937</td>\n",
       "      <td>68.768</td>\n",
       "      <td>103.235</td>\n",
       "      <td>48.146</td>\n",
       "      <td>-999.00</td>\n",
       "      <td>-999.000</td>\n",
       "      <td>-999.000</td>\n",
       "      <td>3.473</td>\n",
       "      <td>2.078</td>\n",
       "      <td>...</td>\n",
       "      <td>1</td>\n",
       "      <td>46.226</td>\n",
       "      <td>0.725</td>\n",
       "      <td>1.158</td>\n",
       "      <td>-999.000</td>\n",
       "      <td>-999.00</td>\n",
       "      <td>-999.000</td>\n",
       "      <td>46.226</td>\n",
       "      <td>2.233584</td>\n",
       "      <td>b</td>\n",
       "    </tr>\n",
       "    <tr>\n",
       "      <th>2</th>\n",
       "      <td>100002</td>\n",
       "      <td>-999.000</td>\n",
       "      <td>162.172</td>\n",
       "      <td>125.953</td>\n",
       "      <td>35.635</td>\n",
       "      <td>-999.00</td>\n",
       "      <td>-999.000</td>\n",
       "      <td>-999.000</td>\n",
       "      <td>3.148</td>\n",
       "      <td>9.336</td>\n",
       "      <td>...</td>\n",
       "      <td>1</td>\n",
       "      <td>44.251</td>\n",
       "      <td>2.053</td>\n",
       "      <td>-2.028</td>\n",
       "      <td>-999.000</td>\n",
       "      <td>-999.00</td>\n",
       "      <td>-999.000</td>\n",
       "      <td>44.251</td>\n",
       "      <td>2.347389</td>\n",
       "      <td>b</td>\n",
       "    </tr>\n",
       "    <tr>\n",
       "      <th>3</th>\n",
       "      <td>100003</td>\n",
       "      <td>143.905</td>\n",
       "      <td>81.417</td>\n",
       "      <td>80.943</td>\n",
       "      <td>0.414</td>\n",
       "      <td>-999.00</td>\n",
       "      <td>-999.000</td>\n",
       "      <td>-999.000</td>\n",
       "      <td>3.310</td>\n",
       "      <td>0.414</td>\n",
       "      <td>...</td>\n",
       "      <td>0</td>\n",
       "      <td>-999.000</td>\n",
       "      <td>-999.000</td>\n",
       "      <td>-999.000</td>\n",
       "      <td>-999.000</td>\n",
       "      <td>-999.00</td>\n",
       "      <td>-999.000</td>\n",
       "      <td>-0.000</td>\n",
       "      <td>5.446378</td>\n",
       "      <td>b</td>\n",
       "    </tr>\n",
       "    <tr>\n",
       "      <th>4</th>\n",
       "      <td>100004</td>\n",
       "      <td>175.864</td>\n",
       "      <td>16.915</td>\n",
       "      <td>134.805</td>\n",
       "      <td>16.405</td>\n",
       "      <td>-999.00</td>\n",
       "      <td>-999.000</td>\n",
       "      <td>-999.000</td>\n",
       "      <td>3.891</td>\n",
       "      <td>16.405</td>\n",
       "      <td>...</td>\n",
       "      <td>0</td>\n",
       "      <td>-999.000</td>\n",
       "      <td>-999.000</td>\n",
       "      <td>-999.000</td>\n",
       "      <td>-999.000</td>\n",
       "      <td>-999.00</td>\n",
       "      <td>-999.000</td>\n",
       "      <td>0.000</td>\n",
       "      <td>6.245333</td>\n",
       "      <td>b</td>\n",
       "    </tr>\n",
       "  </tbody>\n",
       "</table>\n",
       "<p>5 rows × 33 columns</p>\n",
       "</div>"
      ],
      "text/plain": [
       "   EventId  DER_mass_MMC  DER_mass_transverse_met_lep  DER_mass_vis  DER_pt_h  \\\n",
       "0   100000       138.470                       51.655        97.827    27.980   \n",
       "1   100001       160.937                       68.768       103.235    48.146   \n",
       "2   100002      -999.000                      162.172       125.953    35.635   \n",
       "3   100003       143.905                       81.417        80.943     0.414   \n",
       "4   100004       175.864                       16.915       134.805    16.405   \n",
       "\n",
       "   DER_deltaeta_jet_jet  DER_mass_jet_jet  DER_prodeta_jet_jet  \\\n",
       "0                  0.91           124.711                2.666   \n",
       "1               -999.00          -999.000             -999.000   \n",
       "2               -999.00          -999.000             -999.000   \n",
       "3               -999.00          -999.000             -999.000   \n",
       "4               -999.00          -999.000             -999.000   \n",
       "\n",
       "   DER_deltar_tau_lep  DER_pt_tot  ...  PRI_jet_num  PRI_jet_leading_pt  \\\n",
       "0               3.064      41.928  ...            2              67.435   \n",
       "1               3.473       2.078  ...            1              46.226   \n",
       "2               3.148       9.336  ...            1              44.251   \n",
       "3               3.310       0.414  ...            0            -999.000   \n",
       "4               3.891      16.405  ...            0            -999.000   \n",
       "\n",
       "   PRI_jet_leading_eta  PRI_jet_leading_phi  PRI_jet_subleading_pt  \\\n",
       "0                2.150                0.444                 46.062   \n",
       "1                0.725                1.158               -999.000   \n",
       "2                2.053               -2.028               -999.000   \n",
       "3             -999.000             -999.000               -999.000   \n",
       "4             -999.000             -999.000               -999.000   \n",
       "\n",
       "   PRI_jet_subleading_eta  PRI_jet_subleading_phi  PRI_jet_all_pt    Weight  \\\n",
       "0                    1.24                  -2.475         113.497  0.002653   \n",
       "1                 -999.00                -999.000          46.226  2.233584   \n",
       "2                 -999.00                -999.000          44.251  2.347389   \n",
       "3                 -999.00                -999.000          -0.000  5.446378   \n",
       "4                 -999.00                -999.000           0.000  6.245333   \n",
       "\n",
       "   Label  \n",
       "0      s  \n",
       "1      b  \n",
       "2      b  \n",
       "3      b  \n",
       "4      b  \n",
       "\n",
       "[5 rows x 33 columns]"
      ]
     },
     "execution_count": 4,
     "metadata": {},
     "output_type": "execute_result"
    }
   ],
   "source": [
    "df.head()"
   ]
  },
  {
   "cell_type": "code",
   "execution_count": 5,
   "id": "c43a2ff6",
   "metadata": {},
   "outputs": [
    {
     "data": {
      "text/plain": [
       "EventId                        0\n",
       "DER_mass_MMC                   0\n",
       "DER_mass_transverse_met_lep    0\n",
       "DER_mass_vis                   0\n",
       "DER_pt_h                       0\n",
       "DER_deltaeta_jet_jet           0\n",
       "DER_mass_jet_jet               0\n",
       "DER_prodeta_jet_jet            0\n",
       "DER_deltar_tau_lep             0\n",
       "DER_pt_tot                     0\n",
       "DER_sum_pt                     0\n",
       "DER_pt_ratio_lep_tau           0\n",
       "DER_met_phi_centrality         0\n",
       "DER_lep_eta_centrality         0\n",
       "PRI_tau_pt                     0\n",
       "PRI_tau_eta                    0\n",
       "PRI_tau_phi                    0\n",
       "PRI_lep_pt                     0\n",
       "PRI_lep_eta                    0\n",
       "PRI_lep_phi                    0\n",
       "PRI_met                        0\n",
       "PRI_met_phi                    0\n",
       "PRI_met_sumet                  0\n",
       "PRI_jet_num                    0\n",
       "PRI_jet_leading_pt             0\n",
       "PRI_jet_leading_eta            0\n",
       "PRI_jet_leading_phi            0\n",
       "PRI_jet_subleading_pt          0\n",
       "PRI_jet_subleading_eta         0\n",
       "PRI_jet_subleading_phi         0\n",
       "PRI_jet_all_pt                 0\n",
       "Weight                         0\n",
       "Label                          0\n",
       "dtype: int64"
      ]
     },
     "execution_count": 5,
     "metadata": {},
     "output_type": "execute_result"
    }
   ],
   "source": [
    "df.isnull().sum()"
   ]
  },
  {
   "cell_type": "code",
   "execution_count": 6,
   "id": "becee202",
   "metadata": {},
   "outputs": [],
   "source": [
    "df=df.drop(['EventId'],axis=1)"
   ]
  },
  {
   "cell_type": "code",
   "execution_count": 7,
   "id": "8683381a",
   "metadata": {},
   "outputs": [
    {
     "name": "stdout",
     "output_type": "stream",
     "text": [
      "<class 'pandas.core.frame.DataFrame'>\n",
      "RangeIndex: 250000 entries, 0 to 249999\n",
      "Data columns (total 32 columns):\n",
      " #   Column                       Non-Null Count   Dtype  \n",
      "---  ------                       --------------   -----  \n",
      " 0   DER_mass_MMC                 250000 non-null  float64\n",
      " 1   DER_mass_transverse_met_lep  250000 non-null  float64\n",
      " 2   DER_mass_vis                 250000 non-null  float64\n",
      " 3   DER_pt_h                     250000 non-null  float64\n",
      " 4   DER_deltaeta_jet_jet         250000 non-null  float64\n",
      " 5   DER_mass_jet_jet             250000 non-null  float64\n",
      " 6   DER_prodeta_jet_jet          250000 non-null  float64\n",
      " 7   DER_deltar_tau_lep           250000 non-null  float64\n",
      " 8   DER_pt_tot                   250000 non-null  float64\n",
      " 9   DER_sum_pt                   250000 non-null  float64\n",
      " 10  DER_pt_ratio_lep_tau         250000 non-null  float64\n",
      " 11  DER_met_phi_centrality       250000 non-null  float64\n",
      " 12  DER_lep_eta_centrality       250000 non-null  float64\n",
      " 13  PRI_tau_pt                   250000 non-null  float64\n",
      " 14  PRI_tau_eta                  250000 non-null  float64\n",
      " 15  PRI_tau_phi                  250000 non-null  float64\n",
      " 16  PRI_lep_pt                   250000 non-null  float64\n",
      " 17  PRI_lep_eta                  250000 non-null  float64\n",
      " 18  PRI_lep_phi                  250000 non-null  float64\n",
      " 19  PRI_met                      250000 non-null  float64\n",
      " 20  PRI_met_phi                  250000 non-null  float64\n",
      " 21  PRI_met_sumet                250000 non-null  float64\n",
      " 22  PRI_jet_num                  250000 non-null  int64  \n",
      " 23  PRI_jet_leading_pt           250000 non-null  float64\n",
      " 24  PRI_jet_leading_eta          250000 non-null  float64\n",
      " 25  PRI_jet_leading_phi          250000 non-null  float64\n",
      " 26  PRI_jet_subleading_pt        250000 non-null  float64\n",
      " 27  PRI_jet_subleading_eta       250000 non-null  float64\n",
      " 28  PRI_jet_subleading_phi       250000 non-null  float64\n",
      " 29  PRI_jet_all_pt               250000 non-null  float64\n",
      " 30  Weight                       250000 non-null  float64\n",
      " 31  Label                        250000 non-null  object \n",
      "dtypes: float64(30), int64(1), object(1)\n",
      "memory usage: 61.0+ MB\n"
     ]
    }
   ],
   "source": [
    "df.info()"
   ]
  },
  {
   "cell_type": "code",
   "execution_count": 8,
   "id": "c9898558",
   "metadata": {},
   "outputs": [],
   "source": [
    "Label_mapping = {\n",
    "    's'  : 0,\n",
    "    'b' : 1\n",
    "}\n",
    "\n",
    "df['Label'] = df['Label'].map(Label_mapping)"
   ]
  },
  {
   "cell_type": "code",
   "execution_count": 9,
   "id": "4f04fb82",
   "metadata": {},
   "outputs": [],
   "source": [
    "feat = [ 'DER_sum_pt', 'DER_pt_ratio_lep_tau','PRI_met_sumet','PRI_jet_num','Weight']"
   ]
  },
  {
   "cell_type": "code",
   "execution_count": 10,
   "id": "ceb15107",
   "metadata": {},
   "outputs": [],
   "source": [
    "train = df.iloc[:174999]\n",
    "test = df.iloc[174999:]"
   ]
  },
  {
   "cell_type": "code",
   "execution_count": 11,
   "id": "622ffd30",
   "metadata": {},
   "outputs": [],
   "source": [
    "Target = 'Label'"
   ]
  },
  {
   "cell_type": "code",
   "execution_count": 12,
   "id": "b3578567",
   "metadata": {},
   "outputs": [],
   "source": [
    "df['DER_sum_pt'] = np.log(df['DER_sum_pt'])"
   ]
  },
  {
   "cell_type": "code",
   "execution_count": 13,
   "id": "f2798415",
   "metadata": {},
   "outputs": [],
   "source": [
    "df['DER_pt_ratio_lep_tau'] = np.log(df['DER_pt_ratio_lep_tau'])"
   ]
  },
  {
   "cell_type": "code",
   "execution_count": 14,
   "id": "c1fa8770",
   "metadata": {},
   "outputs": [],
   "source": [
    "df['PRI_met_sumet'] = np.log(df['PRI_met_sumet'])"
   ]
  },
  {
   "cell_type": "code",
   "execution_count": 15,
   "id": "e0bf666a",
   "metadata": {},
   "outputs": [],
   "source": [
    "df['Weight'] = np.log(df['Weight'])"
   ]
  },
  {
   "cell_type": "code",
   "execution_count": 16,
   "id": "fc81d6c5",
   "metadata": {},
   "outputs": [],
   "source": [
    "df.replace([np.inf, -np.inf], np.nan, inplace=True)"
   ]
  },
  {
   "cell_type": "code",
   "execution_count": 17,
   "id": "7695d169",
   "metadata": {},
   "outputs": [],
   "source": [
    "df.fillna(-999, inplace=True)"
   ]
  },
  {
   "cell_type": "code",
   "execution_count": 18,
   "id": "7fa1acd0",
   "metadata": {},
   "outputs": [],
   "source": [
    "def run_model(clf):\n",
    "  \"\"\"\n",
    "  Function to fit the classifier, generate predictions and calculate f1_score.\n",
    "  params: clf - The classifier which needs to be implemented\n",
    "  \"\"\"\n",
    "\n",
    "  # Define Model\n",
    "  clf = clf\n",
    "\n",
    "  # Fit Model\n",
    "  clf.fit(X_trn, y_trn)\n",
    "\n",
    "  # Obtain Predictions\n",
    "  preds_val = clf.predict(X_val)\n",
    "\n",
    "  # Evaluate Model\n",
    "  metric = f1_score(y_val, preds_val)\n",
    "  print(f\"f1 score: {metric}\")\n",
    "  # get importance\n",
    "  importance = clf.coef_[0]\n",
    "# summarize feature importance\n",
    "  for i,v in enumerate(importance):\n",
    "   print('Feature: %0d, Score: %.5f' % (i,v))\n",
    "# plot feature importance\n",
    "  plt.bar([x for x in range(len(importance))], importance)\n",
    "  plt.show()"
   ]
  },
  {
   "cell_type": "code",
   "execution_count": 19,
   "id": "bdca3517",
   "metadata": {},
   "outputs": [],
   "source": [
    "# Split train and validation data\n",
    "trn, val = train_test_split(train, test_size=0.2, random_state = 1, stratify = train[Target])\n",
    "\n",
    "# Input to our model will be the features\n",
    "X_trn, X_val = trn[feat], val[feat]\n",
    "\n",
    "# Output of our model will be the TARGET_COL\n",
    "y_trn, y_val = trn[Target], val[Target]\n",
    "\n",
    "# Features for the test data that we will be predicting\n",
    "X_test = test[feat]"
   ]
  },
  {
   "cell_type": "code",
   "execution_count": 20,
   "id": "9284f633",
   "metadata": {},
   "outputs": [
    {
     "name": "stdout",
     "output_type": "stream",
     "text": [
      "f1 score: 1.0\n",
      "Feature: 0, Score: 0.14035\n",
      "Feature: 1, Score: 0.13722\n",
      "Feature: 2, Score: 0.44699\n",
      "Feature: 3, Score: 0.71415\n",
      "Feature: 4, Score: 10.36373\n"
     ]
    },
    {
     "data": {
      "image/png": "[encoded data removed]",
      "text/plain": [
       "<Figure size 432x288 with 1 Axes>"
      ]
     },
     "metadata": {
      "needs_background": "light"
     },
     "output_type": "display_data"
    }
   ],
   "source": [
    "run_model(LogisticRegression(random_state = 42))"
   ]
  },
  {
   "cell_type": "code",
   "execution_count": 21,
   "id": "6b797d0d",
   "metadata": {},
   "outputs": [],
   "source": [
    "clf=LogisticRegression(random_state = 42)"
   ]
  },
  {
   "cell_type": "code",
   "execution_count": 22,
   "id": "d26a8071",
   "metadata": {},
   "outputs": [
    {
     "data": {
      "text/plain": [
       "LogisticRegression(random_state=42)"
      ]
     },
     "execution_count": 22,
     "metadata": {},
     "output_type": "execute_result"
    }
   ],
   "source": [
    "clf.fit(X_trn, y_trn)"
   ]
  },
  {
   "cell_type": "code",
   "execution_count": 23,
   "id": "e85e812e",
   "metadata": {},
   "outputs": [],
   "source": [
    "import pickle\n",
    "import joblib"
   ]
  },
  {
   "cell_type": "code",
   "execution_count": 24,
   "id": "5755eafe",
   "metadata": {},
   "outputs": [],
   "source": [
    "#with open(\"model.joblib\", 'wb') as x:\n",
    "#    joblib.dump(clf, x, compress=3)"
   ]
  },
  {
   "cell_type": "markdown",
   "id": "d6ebd909",
   "metadata": {},
   "source": [
    "###### Based on feature selection we extracted 5 features which is giving an f1 score of 1"
   ]
  }
 ],
 "metadata": {
  "kernelspec": {
   "display_name": "Python 3",
   "language": "python",
   "name": "python3"
  },
  "language_info": {
   "codemirror_mode": {
    "name": "ipython",
    "version": 3
   },
   "file_extension": ".py",
   "mimetype": "text/x-python",
   "name": "python",
   "nbconvert_exporter": "python",
   "pygments_lexer": "ipython3",
   "version": "3.7.11"
  }
 },
 "nbformat": 4,
 "nbformat_minor": 5
}
